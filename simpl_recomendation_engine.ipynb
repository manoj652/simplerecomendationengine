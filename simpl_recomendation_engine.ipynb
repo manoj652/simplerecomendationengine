{
 "cells": [
  {
   "cell_type": "code",
   "execution_count": 2,
   "metadata": {
    "scrolled": true
   },
   "outputs": [
    {
     "name": "stdout",
     "output_type": "stream",
     "text": [
      "Done!\n"
     ]
    }
   ],
   "source": [
    "import pandas as pd\n",
    "from sklearn.feature_extraction.text import TfidfVectorizer\n",
    "from sklearn.metrics.pairwise import linear_kernel\n",
    "\n",
    "ds = pd.read_csv(\"sample-data.csv\")\n",
    "\n",
    "tf = TfidfVectorizer(analyzer='word', ngram_range=(1, 3), min_df=0, stop_words='english')\n",
    "tfidf_matrix = tf.fit_transform(ds['description'])\n",
    "\n",
    "cosine_similarities = linear_kernel(tfidf_matrix, tfidf_matrix)\n",
    "\n",
    "results = {}\n",
    "\n",
    "for idx, row in ds.iterrows():\n",
    "    similar_indices = cosine_similarities[idx].argsort()[:-100:-1]\n",
    "    similar_items = [(cosine_similarities[idx][i], ds['id'][i]) for i in similar_indices]\n",
    "\n",
    "    # First item is the item itself, so remove it.\n",
    "    # Each dictionary entry is like: [(1,2), (3,4)], with each tuple being (score, item_id)\n",
    "    results[row['id']] = similar_items[1:]\n",
    "    \n",
    "print('Done!')"
   ]
  },
  {
   "cell_type": "code",
   "execution_count": 7,
   "metadata": {},
   "outputs": [
    {
     "name": "stdout",
     "output_type": "stream",
     "text": [
      "Recommending 5 products similar to Baby sunshade top...\n",
      "-------\n",
      "Recommended: Sunshade hoody (score:0.2133029602108501)\n",
      "Recommended: Baby baggies apron dress (score:0.10975311296284813)\n",
      "Recommended: Runshade t-shirt (score:0.09988151262780706)\n",
      "Recommended: Runshade t-shirt (score:0.09530698241688194)\n",
      "Recommended: Runshade top (score:0.08510550093018401)\n",
      "Recommending 5 products similar to Active sport briefs...\n",
      "-------\n",
      "Recommended: Active sport boxer briefs (score:0.4181663992161579)\n",
      "Recommended: Active boy shorts (score:0.1140184812203876)\n",
      "Recommended: Active briefs (score:0.11053729446572895)\n",
      "Recommended: Active briefs (score:0.1091764001658287)\n",
      "Recommended: Active mesh bra (score:0.10172320448715239)\n",
      "Recommending 5 products similar to Active classic boxers...\n",
      "-------\n",
      "Recommended: Cap 1 boxer briefs (score:0.22037921472617453)\n",
      "Recommended: Active boxer briefs (score:0.16938950913002357)\n",
      "Recommended: Cap 1 bottoms (score:0.16769458065321555)\n",
      "Recommended: Cap 1 t-shirt (score:0.16485527745622977)\n",
      "Recommended: Cap 3 bottoms (score:0.148126154605864)\n",
      "Recommending 5 products similar to Relax fit organic ctn jeans-shor...\n",
      "-------\n",
      "Recommended: Relax fit organic ctn jeans-reg (score:0.8908101955877065)\n",
      "Recommended: Relax fit organic ctn jeans-long (score:0.8866113828050025)\n",
      "Recommended: Reg fit organic ctn jeans-short (score:0.507668259865595)\n",
      "Recommended: Reg fit organic ctn jeans-long (score:0.48801052800273903)\n",
      "Recommended: Reg fit organic ctn jeans-reg (score:0.48488884889129785)\n"
     ]
    }
   ],
   "source": [
    "# hacky little function to get a friendly item name from the description field, given an item ID\n",
    "def item(id):\n",
    "    return ds.loc[ds['id'] == id]['description'].tolist()[0].split(' - ')[0]\n",
    "\n",
    "# Just reads the results out of the dictionary. No real logic here.\n",
    "def recommend(item_id, num):\n",
    "    print(\"Recommending \" + str(num) + \" products similar to \" + item(item_id) + \"...\")\n",
    "    print(\"-------\")\n",
    "    recs = results[item_id][:num]\n",
    "    for rec in recs:\n",
    "        print(\"Recommended: \" + item(rec[1]) + \" (score:\" + str(rec[0]) + \")\")\n",
    "\n",
    "# Just plug in any item id here (1-500), and the number of recommendations you want (1-99)\n",
    "# You can get a list of valid item IDs by evaluating the variable 'ds', or a few are listed below\n",
    "\n",
    "recommend(item_id=11, num=5)\n",
    "\n",
    "recommend(item_id=3, num=5)\n",
    "\n",
    "recommend(item_id=1, num=5)\n",
    "\n",
    "recommend(item_id=110, num=5)\n"
   ]
  },
  {
   "cell_type": "code",
   "execution_count": null,
   "metadata": {
    "collapsed": true
   },
   "outputs": [],
   "source": []
  }
 ],
 "metadata": {
  "kernelspec": {
   "display_name": "Python 3",
   "language": "python",
   "name": "python3"
  },
  "language_info": {
   "codemirror_mode": {
    "name": "ipython",
    "version": 3
   },
   "file_extension": ".py",
   "mimetype": "text/x-python",
   "name": "python",
   "nbconvert_exporter": "python",
   "pygments_lexer": "ipython3",
   "version": "3.6.3"
  }
 },
 "nbformat": 4,
 "nbformat_minor": 2
}
